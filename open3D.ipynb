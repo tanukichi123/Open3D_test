{
 "cells": [
  {
   "cell_type": "code",
   "execution_count": 2,
   "metadata": {
    "ExecuteTime": {
     "end_time": "2018-12-01T11:11:25.085415Z",
     "start_time": "2018-12-01T11:11:24.281404Z"
    }
   },
   "outputs": [],
   "source": [
    "! code ."
   ]
  },
  {
   "cell_type": "markdown",
   "metadata": {},
   "source": [
    "## document\n",
    "http://www.open3d.org/"
   ]
  },
  {
   "cell_type": "markdown",
   "metadata": {},
   "source": [
    "## example"
   ]
  },
  {
   "cell_type": "markdown",
   "metadata": {},
   "source": [
    "### ポイントクラウド\n",
    "このチュートリアルでは、ポイントクラウドの基本的な使い方を示します。"
   ]
  },
  {
   "cell_type": "code",
   "execution_count": 9,
   "metadata": {
    "ExecuteTime": {
     "end_time": "2018-12-01T12:44:15.673803Z",
     "start_time": "2018-12-01T12:44:15.669805Z"
    }
   },
   "outputs": [],
   "source": [
    "data_ply = \"TestData/fragment.ply\"\n",
    "data_ply = \"sync.ply\""
   ]
  },
  {
   "cell_type": "code",
   "execution_count": 10,
   "metadata": {
    "ExecuteTime": {
     "end_time": "2018-12-01T12:44:28.272762Z",
     "start_time": "2018-12-01T12:44:16.314720Z"
    }
   },
   "outputs": [
    {
     "name": "stdout",
     "output_type": "stream",
     "text": [
      "Load a ply point cloud, print it, and render it\n",
      "PointCloud with 160801 points.\n",
      "[[-3.         -3.          0.17846472]\n",
      " [-2.985      -3.          0.17440115]\n",
      " [-2.97       -3.          0.17063709]\n",
      " ...\n",
      " [ 2.97        3.          0.17063709]\n",
      " [ 2.985       3.          0.17440115]\n",
      " [ 3.          3.          0.17846472]]\n",
      "Downsample the point cloud with a voxel of 0.05\n",
      "Recompute the normal of the downsampled point cloud\n",
      "Print a normal vector of the 0th point\n",
      "[0.18925442 0.21238278 0.95868468]\n",
      "Print the normal vectors of the first 10 points\n",
      "[[ 0.18925442  0.21238278  0.95868468]\n",
      " [ 0.14832633 -0.01053055  0.9888824 ]\n",
      " [ 0.08089142 -0.06675276 -0.99448512]\n",
      " [ 0.68583492 -0.52396149 -0.50506912]\n",
      " [ 0.26488907  0.34997715  0.89852645]\n",
      " [ 0.2611241   0.21195618  0.94174773]\n",
      " [ 0.13001961  0.03876958 -0.99075316]\n",
      " [ 0.28799628  0.57241931  0.76772018]\n",
      " [ 0.08585969  0.23150057  0.96903849]\n",
      " [ 0.20777711  0.20212181  0.95706606]]\n",
      "\n",
      "Load a polygon volume and use it to crop the original point cloud\n",
      "\n",
      "Paint chair\n",
      "\n"
     ]
    }
   ],
   "source": [
    "import numpy as np\n",
    "from open3d import *\n",
    "\n",
    "if __name__ == \"__main__\":\n",
    "\n",
    "    print(\"Load a ply point cloud, print it, and render it\")\n",
    "    pcd = read_point_cloud(data_ply)\n",
    "    print(pcd)\n",
    "    print(np.asarray(pcd.points))\n",
    "    draw_geometries([pcd])\n",
    "\n",
    "    print(\"Downsample the point cloud with a voxel of 0.05\")\n",
    "    downpcd = voxel_down_sample(pcd, voxel_size = 0.05)\n",
    "    draw_geometries([downpcd])\n",
    "\n",
    "    print(\"Recompute the normal of the downsampled point cloud\")\n",
    "    estimate_normals(downpcd, search_param = KDTreeSearchParamHybrid(\n",
    "            radius = 0.1, max_nn = 30))\n",
    "    draw_geometries([downpcd])\n",
    "\n",
    "    print(\"Print a normal vector of the 0th point\")\n",
    "    print(downpcd.normals[0])\n",
    "    print(\"Print the normal vectors of the first 10 points\")\n",
    "    print(np.asarray(downpcd.normals)[:10,:])\n",
    "    print(\"\")\n",
    "\n",
    "    print(\"Load a polygon volume and use it to crop the original point cloud\")\n",
    "    vol = read_selection_polygon_volume(\"TestData/Crop/cropped.json\")\n",
    "    chair = vol.crop_point_cloud(pcd)\n",
    "    draw_geometries([chair])\n",
    "    print(\"\")\n",
    "\n",
    "    print(\"Paint chair\")\n",
    "    chair.paint_uniform_color([1, 0.706, 0])\n",
    "    draw_geometries([chair])\n",
    "    print(\"\")"
   ]
  },
  {
   "cell_type": "markdown",
   "metadata": {},
   "source": [
    "\n",
    "チュートリアルの最初の部分では、ポイントクラウドを読み取り、視覚化します。"
   ]
  },
  {
   "cell_type": "code",
   "execution_count": 13,
   "metadata": {
    "ExecuteTime": {
     "end_time": "2018-12-01T12:39:10.301525Z",
     "start_time": "2018-12-01T12:39:06.318917Z"
    }
   },
   "outputs": [
    {
     "name": "stdout",
     "output_type": "stream",
     "text": [
      "Load a ply point cloud, print it, and render it\n",
      "PointCloud with 160801 points.\n",
      "[[-3.         -3.          0.17846472]\n",
      " [-2.985      -3.          0.17440115]\n",
      " [-2.97       -3.          0.17063709]\n",
      " ...\n",
      " [ 2.97        3.          0.17063709]\n",
      " [ 2.985       3.          0.17440115]\n",
      " [ 3.          3.          0.17846472]]\n"
     ]
    }
   ],
   "source": [
    "    print(\"Load a ply point cloud, print it, and render it\")\n",
    "    pcd = read_point_cloud(data_ply)\n",
    "    print(pcd)\n",
    "    print(np.asarray(pcd.points))\n",
    "    draw_geometries([pcd])"
   ]
  },
  {
   "cell_type": "markdown",
   "metadata": {},
   "source": [
    "read_point_cloudファイルから点群を読み込みます。拡張子名に基づいてファイルをデコードしようとします。サポートの拡張名は次のとおりです。pcd、ply、xyz、xyzrgb、xyzn、pts。\n",
    "\n",
    "draw_geometries点群を可視化します。マウス/トラックパッドを使用して、異なる視点からジオメトリを表示します。\n",
    "\n",
    "それは密な表面のように見えますが、実際にはサーフェスとしてレンダリングされる点群です。GUIは、さまざまなキーボード機能をサポートしています。そのうちの1つは-、ポイント（サーフェル）のサイズを小さくするキーです。複数回押すと、視覚化は次のようになります。"
   ]
  },
  {
   "cell_type": "markdown",
   "metadata": {},
   "source": [
    "### ボクセルダウンサンプリング\n",
    "\n",
    "ボクセルのダウンサンプリングは、通常のボクセルグリッドを使用して、入力点群から一様にダウンサンプリングされた点群を作成します。これは、多くのポイントクラウド処理タスクの前処理ステップとしてよく使用されます。アルゴリズムは2つのステップで動作します。\n",
    "\n",
    "1. ポイントはボクセルに入れられます。\n",
    "1. 占有された各ボクセルは、内部のすべての点を平均化することによって正確な1点を生成する。\n",
    "\n",
    "これは、ダウンサンプリングされたポイントクラウドです。"
   ]
  },
  {
   "cell_type": "code",
   "execution_count": 14,
   "metadata": {
    "ExecuteTime": {
     "end_time": "2018-12-01T12:39:20.985111Z",
     "start_time": "2018-12-01T12:39:15.832817Z"
    }
   },
   "outputs": [
    {
     "name": "stdout",
     "output_type": "stream",
     "text": [
      "Downsample the point cloud with a voxel of 0.05\n"
     ]
    }
   ],
   "source": [
    "    print(\"Downsample the point cloud with a voxel of 0.05\")\n",
    "    downpcd = voxel_down_sample(pcd, voxel_size = 0.05)\n",
    "    draw_geometries([downpcd])"
   ]
  },
  {
   "cell_type": "markdown",
   "metadata": {},
   "source": [
    "### 頂点法線推定\n",
    "ポイントクラウドのもう1つの基本的な操作は、点法線推定です。"
   ]
  },
  {
   "cell_type": "code",
   "execution_count": 15,
   "metadata": {
    "ExecuteTime": {
     "end_time": "2018-12-01T12:39:34.944965Z",
     "start_time": "2018-12-01T12:39:28.026643Z"
    }
   },
   "outputs": [
    {
     "name": "stdout",
     "output_type": "stream",
     "text": [
      "Recompute the normal of the downsampled point cloud\n"
     ]
    }
   ],
   "source": [
    "    print(\"Recompute the normal of the downsampled point cloud\")\n",
    "    estimate_normals(downpcd, search_param = KDTreeSearchParamHybrid(\n",
    "            radius = 0.1, max_nn = 30))\n",
    "    draw_geometries([downpcd])"
   ]
  },
  {
   "cell_type": "markdown",
   "metadata": {},
   "source": [
    "estimate_normals各点の法線を計算します。この関数は、共分散解析を使用して隣接点を見つけ、隣接点の主軸を計算します。\n",
    "\n",
    "この関数は、KDTreeSearchParamHybridclassのインスタンスを引数として取ります。2つの重要な引数で、検索半径と最大最近傍を指定します。それは10cmの検索半径を持ち、計算時間を節約するために最大30人の近傍しか考慮しません。radius = 0.1max_nn = 30"
   ]
  },
  {
   "cell_type": "markdown",
   "metadata": {},
   "source": [
    "注意\n",
    "\n",
    "共分散分析アルゴリズムは、通常の候補とは反対の2つの方向を生成する。ジオメトリのグローバルな構造を知らなければ、どちらも正しいことがあります。これは、正常な向きの問題として知られています。Open3Dは、法線が存在する場合、元の法線と揃うように方向付けを試みます。それ以外の場合、Open3Dはランダムな推測を行います。など、さらにオリエンテーション機能orient_normals_to_align_with_directionとはorient_normals_towards_camera_location向きが懸念される場合に呼び出される必要があります。"
   ]
  },
  {
   "cell_type": "markdown",
   "metadata": {},
   "source": [
    "使用するdraw_geometries点群とプレスを視覚化するためにn、通常のポイントを参照してください。キー-とキー+を使用して法線の長さを制御することができます。"
   ]
  },
  {
   "cell_type": "markdown",
   "metadata": {},
   "source": [
    "### 推定頂点法線にアクセス\n",
    "推定された法線ベクトルはのnormals変数によって取り出すことができますdownpcd。"
   ]
  },
  {
   "cell_type": "code",
   "execution_count": 16,
   "metadata": {
    "ExecuteTime": {
     "end_time": "2018-12-01T12:39:49.102197Z",
     "start_time": "2018-12-01T12:39:49.097203Z"
    }
   },
   "outputs": [
    {
     "name": "stdout",
     "output_type": "stream",
     "text": [
      "Print a normal vector of the 0th point\n",
      "[0.18925442 0.21238278 0.95868468]\n"
     ]
    }
   ],
   "source": [
    "    print(\"Print a normal vector of the 0th point\")\n",
    "    print(downpcd.normals[0])"
   ]
  },
  {
   "cell_type": "markdown",
   "metadata": {},
   "source": [
    "他の変数をチェックするには、使用してくださいhelp(downpcd)。法線ベクトルは、を使用してnumpy配列として変換できますnp.asarray。\n",
    "\n"
   ]
  },
  {
   "cell_type": "code",
   "execution_count": 17,
   "metadata": {
    "ExecuteTime": {
     "end_time": "2018-12-01T12:39:52.646038Z",
     "start_time": "2018-12-01T12:39:52.639043Z"
    }
   },
   "outputs": [
    {
     "name": "stdout",
     "output_type": "stream",
     "text": [
      "Print the normal vectors of the first 10 points\n",
      "[[ 0.18925442  0.21238278  0.95868468]\n",
      " [ 0.14832633 -0.01053055  0.9888824 ]\n",
      " [ 0.08089142 -0.06675276 -0.99448512]\n",
      " [ 0.68583492 -0.52396149 -0.50506912]\n",
      " [ 0.26488907  0.34997715  0.89852645]\n",
      " [ 0.2611241   0.21195618  0.94174773]\n",
      " [ 0.13001961  0.03876958 -0.99075316]\n",
      " [ 0.28799628  0.57241931  0.76772018]\n",
      " [ 0.08585969  0.23150057  0.96903849]\n",
      " [ 0.20777711  0.20212181  0.95706606]]\n"
     ]
    }
   ],
   "source": [
    "    print(\"Print the normal vectors of the first 10 points\")\n",
    "    print(np.asarray(downpcd.normals)[:10,:])"
   ]
  },
  {
   "cell_type": "markdown",
   "metadata": {},
   "source": [
    "numpy配列に関するその他の例は、NumPyの使用を参照してください。"
   ]
  },
  {
   "cell_type": "markdown",
   "metadata": {},
   "source": [
    "### 作物点群"
   ]
  },
  {
   "cell_type": "code",
   "execution_count": 18,
   "metadata": {
    "ExecuteTime": {
     "end_time": "2018-12-01T12:40:01.486868Z",
     "start_time": "2018-12-01T12:39:57.652473Z"
    }
   },
   "outputs": [
    {
     "name": "stdout",
     "output_type": "stream",
     "text": [
      "Load a polygon volume and use it to crop the original point cloud\n",
      "\n"
     ]
    }
   ],
   "source": [
    "    print(\"Load a polygon volume and use it to crop the original point cloud\")\n",
    "    vol = read_selection_polygon_volume(\"TestData/Crop/cropped.json\")\n",
    "    chair = vol.crop_point_cloud(pcd)\n",
    "    draw_geometries([chair])\n",
    "    print(\"\")"
   ]
  },
  {
   "cell_type": "markdown",
   "metadata": {},
   "source": [
    "read_selection_polygon_volumeポリゴン選択領域を指定するjsonファイルを読み込みます。 vol.crop_point_cloud(pcd)ポイントを除外します。椅子だけが残っています。"
   ]
  },
  {
   "cell_type": "markdown",
   "metadata": {},
   "source": [
    "### ペイントポイントクラウド"
   ]
  },
  {
   "cell_type": "code",
   "execution_count": 19,
   "metadata": {
    "ExecuteTime": {
     "end_time": "2018-12-01T12:40:17.137930Z",
     "start_time": "2018-12-01T12:40:14.429003Z"
    }
   },
   "outputs": [
    {
     "name": "stdout",
     "output_type": "stream",
     "text": [
      "Paint chair\n",
      "\n"
     ]
    }
   ],
   "source": [
    "    print(\"Paint chair\")\n",
    "    chair.paint_uniform_color([1, 0.706, 0])\n",
    "    draw_geometries([chair])\n",
    "    print(\"\")"
   ]
  },
  {
   "cell_type": "markdown",
   "metadata": {},
   "source": [
    "paint_uniform_colorすべての点を均一な色に塗りつぶします。色はRGB空間の[0、1]の範囲です。"
   ]
  },
  {
   "cell_type": "markdown",
   "metadata": {},
   "source": [
    "## メッシュ\n",
    "Open3Dには、三角形メッシュのデータ構造があります。"
   ]
  },
  {
   "cell_type": "code",
   "execution_count": null,
   "metadata": {},
   "outputs": [],
   "source": [
    "data_ply \"TestData/knot.ply\""
   ]
  },
  {
   "cell_type": "code",
   "execution_count": 20,
   "metadata": {
    "ExecuteTime": {
     "end_time": "2018-12-01T12:41:20.890631Z",
     "start_time": "2018-12-01T12:41:05.316252Z"
    }
   },
   "outputs": [
    {
     "name": "stdout",
     "output_type": "stream",
     "text": [
      "Testing mesh in open3d ...\n",
      "TriangleMesh with 160801 points and 0 triangles.\n",
      "[[-3.         -3.          0.17846472]\n",
      " [-2.985      -3.          0.17440115]\n",
      " [-2.97       -3.          0.17063709]\n",
      " ...\n",
      " [ 2.97        3.          0.17063709]\n",
      " [ 2.985       3.          0.17440115]\n",
      " [ 3.          3.          0.17846472]]\n",
      "[]\n",
      "\n",
      "Try to render a mesh with normals (exist: False) and colors (exist: False)\n",
      "A mesh with no normals and no colors does not seem good.\n",
      "Computing normal and rendering it.\n",
      "[]\n",
      "We make a partial mesh of only the first half triangles.\n",
      "std::vector<Eigen::Vector3i> with 0 elements.\n",
      "Use numpy.asarray() to access data.\n",
      "Painting the mesh\n"
     ]
    }
   ],
   "source": [
    "# examples/Python/Tutorial/Basic/mesh.py\n",
    "\n",
    "import copy\n",
    "import numpy as np\n",
    "from open3d import *\n",
    "\n",
    "if __name__ == \"__main__\":\n",
    "\n",
    "    print(\"Testing mesh in open3d ...\")\n",
    "    mesh = read_triangle_mesh(data_ply)\n",
    "    print(mesh)\n",
    "    print(np.asarray(mesh.vertices))\n",
    "    print(np.asarray(mesh.triangles))\n",
    "    print(\"\")\n",
    "\n",
    "    print(\"Try to render a mesh with normals (exist: \" +\n",
    "            str(mesh.has_vertex_normals()) +\n",
    "            \") and colors (exist: \" + str(mesh.has_vertex_colors()) + \")\")\n",
    "    draw_geometries([mesh])\n",
    "    print(\"A mesh with no normals and no colors does not seem good.\")\n",
    "\n",
    "    print(\"Computing normal and rendering it.\")\n",
    "    mesh.compute_vertex_normals()\n",
    "    print(np.asarray(mesh.triangle_normals))\n",
    "    draw_geometries([mesh])\n",
    "\n",
    "    print(\"We make a partial mesh of only the first half triangles.\")\n",
    "    mesh1 = copy.deepcopy(mesh)\n",
    "    mesh1.triangles = Vector3iVector(\n",
    "            np.asarray(mesh1.triangles)[:len(mesh1.triangles)//2, :])\n",
    "    mesh1.triangle_normals = Vector3dVector(\n",
    "            np.asarray(mesh1.triangle_normals)\n",
    "            [:len(mesh1.triangle_normals)//2, :])\n",
    "    print(mesh1.triangles)\n",
    "    draw_geometries([mesh1])\n",
    "\n",
    "    print(\"Painting the mesh\")\n",
    "    mesh1.paint_uniform_color([1, 0.706, 0])\n",
    "    draw_geometries([mesh1])\n"
   ]
  },
  {
   "cell_type": "markdown",
   "metadata": {},
   "source": [
    "## NumPyを使って作業する\n",
    "Open3Dのデータ構造は、NumPyバッファとネイティブに互換性があります。次のチュートリアルでは、NumPyを使用した同期関数の変形を生成し、Open3Dを使用してその関数を視覚化します。\n",
    "\n"
   ]
  },
  {
   "cell_type": "code",
   "execution_count": 1,
   "metadata": {
    "ExecuteTime": {
     "end_time": "2018-12-01T12:42:04.504148Z",
     "start_time": "2018-12-01T12:42:04.428198Z"
    }
   },
   "outputs": [
    {
     "name": "stdout",
     "output_type": "stream",
     "text": [
      "xyz\n",
      "[[-3.         -3.          0.17846472]\n",
      " [-2.985      -3.          0.17440115]\n",
      " [-2.97       -3.          0.17063709]\n",
      " ...\n",
      " [ 2.97        3.          0.17063709]\n",
      " [ 2.985       3.          0.17440115]\n",
      " [ 3.          3.          0.17846472]]\n"
     ]
    }
   ],
   "source": [
    "# examples/Python/Tutorial/Basic/working_with_numpy.py\n",
    "\n",
    "import copy\n",
    "import numpy as np\n",
    "from open3d import *\n",
    "\n",
    "\n",
    "# generate some neat n times 3 matrix using a variant of sync function\n",
    "x = np.linspace(-3, 3, 401)\n",
    "mesh_x, mesh_y = np.meshgrid(x,x)\n",
    "z = np.sinc((np.power(mesh_x,2)+np.power(mesh_y,2)))\n",
    "z_norm = (z-z.min())/(z.max()-z.min())\n",
    "xyz = np.zeros((np.size(mesh_x),3))\n",
    "xyz[:,0] = np.reshape(mesh_x,-1)\n",
    "xyz[:,1] = np.reshape(mesh_y,-1)\n",
    "xyz[:,2] = np.reshape(z_norm,-1)\n",
    "print('xyz')\n",
    "print(xyz)\n"
   ]
  },
  {
   "cell_type": "code",
   "execution_count": 2,
   "metadata": {
    "ExecuteTime": {
     "end_time": "2018-12-01T12:42:05.690967Z",
     "start_time": "2018-12-01T12:42:05.234976Z"
    }
   },
   "outputs": [],
   "source": [
    "import pandas as pd"
   ]
  },
  {
   "cell_type": "code",
   "execution_count": 3,
   "metadata": {
    "ExecuteTime": {
     "end_time": "2018-12-01T12:42:05.918822Z",
     "start_time": "2018-12-01T12:42:05.913822Z"
    }
   },
   "outputs": [],
   "source": [
    "df = pd.DataFrame(xyz)"
   ]
  },
  {
   "cell_type": "code",
   "execution_count": 5,
   "metadata": {
    "ExecuteTime": {
     "end_time": "2018-12-01T12:42:38.268610Z",
     "start_time": "2018-12-01T12:42:07.908014Z"
    }
   },
   "outputs": [],
   "source": [
    "\n",
    "# Pass xyz to Open3D.PointCloud and visualize\n",
    "pcd = PointCloud()\n",
    "pcd.points = Vector3dVector(xyz)\n",
    "write_point_cloud(\"sync.ply\", pcd)\n",
    "\n",
    "# Load saved point cloud and visualize it\n",
    "pcd_load = read_point_cloud(\"sync.ply\")\n",
    "draw_geometries([pcd_load])\n",
    "\n"
   ]
  },
  {
   "cell_type": "code",
   "execution_count": 8,
   "metadata": {
    "ExecuteTime": {
     "end_time": "2018-12-01T12:43:22.286911Z",
     "start_time": "2018-12-01T12:43:22.009873Z"
    }
   },
   "outputs": [
    {
     "data": {
      "text/plain": [
       "True"
      ]
     },
     "execution_count": 8,
     "metadata": {},
     "output_type": "execute_result"
    }
   ],
   "source": [
    "# Pass xyz to Open3D.PointCloud and visualize\n",
    "pcd = PointCloud()\n",
    "pcd.points = Vector3dVector(xyz)\n",
    "write_point_cloud(\"TestData/sync.ply\", pcd)"
   ]
  },
  {
   "cell_type": "code",
   "execution_count": 16,
   "metadata": {
    "ExecuteTime": {
     "end_time": "2018-12-01T12:47:46.178928Z",
     "start_time": "2018-12-01T12:47:39.632508Z"
    }
   },
   "outputs": [
    {
     "name": "stdout",
     "output_type": "stream",
     "text": [
      "xyz_load\n",
      "[[-3.         -3.          0.17846472]\n",
      " [-2.985      -3.          0.17440115]\n",
      " [-2.97       -3.          0.17063709]\n",
      " ...\n",
      " [ 2.97        3.          0.17063709]\n",
      " [ 2.985       3.          0.17440115]\n",
      " [ 3.          3.          0.17846472]]\n"
     ]
    }
   ],
   "source": [
    "# Load saved point cloud and visualize it\n",
    "pcd_load = read_point_cloud(data_ply)\n",
    "draw_geometries([pcd_load])\n",
    "\n",
    "# convert Open3D.PointCloud to numpy array\n",
    "xyz_load = np.asarray(pcd_load.points)\n",
    "print('xyz_load')\n",
    "print(xyz_load)"
   ]
  },
  {
   "cell_type": "code",
   "execution_count": 20,
   "metadata": {
    "ExecuteTime": {
     "end_time": "2018-12-01T12:51:19.041178Z",
     "start_time": "2018-12-01T12:51:08.813817Z"
    }
   },
   "outputs": [
    {
     "name": "stdout",
     "output_type": "stream",
     "text": [
      "Load a ply point cloud, print it, and render it\n",
      "PointCloud with 160801 points.\n",
      "[[-3.         -3.          0.17846472]\n",
      " [-2.985      -3.          0.17440115]\n",
      " [-2.97       -3.          0.17063709]\n",
      " ...\n",
      " [ 2.97        3.          0.17063709]\n",
      " [ 2.985       3.          0.17440115]\n",
      " [ 3.          3.          0.17846472]]\n",
      "Downsample the point cloud with a voxel of 0.05\n",
      "Recompute the normal of the downsampled point cloud\n",
      "Print a normal vector of the 0th point\n",
      "[0.18925442 0.21238278 0.95868468]\n",
      "Print the normal vectors of the first 10 points\n",
      "[[ 0.18925442  0.21238278  0.95868468]\n",
      " [ 0.14832633 -0.01053055  0.9888824 ]\n",
      " [ 0.08089142 -0.06675276 -0.99448512]\n",
      " [ 0.68583492 -0.52396149 -0.50506912]\n",
      " [ 0.26488907  0.34997715  0.89852645]\n",
      " [ 0.2611241   0.21195618  0.94174773]\n",
      " [ 0.13001961  0.03876958 -0.99075316]\n",
      " [ 0.28799628  0.57241931  0.76772018]\n",
      " [ 0.08585969  0.23150057  0.96903849]\n",
      " [ 0.20777711  0.20212181  0.95706606]]\n",
      "\n"
     ]
    }
   ],
   "source": [
    "    print(\"Load a ply point cloud, print it, and render it\")\n",
    "    pcd = read_point_cloud(\"TestData/sync.ply\")\n",
    "    print(pcd)\n",
    "    print(np.asarray(pcd.points))\n",
    "    draw_geometries([pcd])\n",
    "\n",
    "    print(\"Downsample the point cloud with a voxel of 0.05\")\n",
    "    downpcd = voxel_down_sample(pcd, voxel_size = 0.05)\n",
    "    draw_geometries([downpcd])\n",
    "\n",
    "    print(\"Recompute the normal of the downsampled point cloud\")\n",
    "    estimate_normals(downpcd, search_param = KDTreeSearchParamHybrid(\n",
    "            radius = 0.1, max_nn = 30))\n",
    "    draw_geometries([downpcd])\n",
    "\n",
    "    print(\"Print a normal vector of the 0th point\")\n",
    "    print(downpcd.normals[0])\n",
    "    print(\"Print the normal vectors of the first 10 points\")\n",
    "    print(np.asarray(downpcd.normals)[:10,:])\n",
    "    print(\"\")\n"
   ]
  },
  {
   "cell_type": "code",
   "execution_count": 22,
   "metadata": {
    "ExecuteTime": {
     "end_time": "2018-12-01T12:51:51.151399Z",
     "start_time": "2018-12-01T12:51:47.156453Z"
    }
   },
   "outputs": [
    {
     "name": "stdout",
     "output_type": "stream",
     "text": [
      "Load a ply point cloud, print it, and render it\n",
      "PointCloud with 160801 points.\n",
      "[[-3.         -3.          0.17846472]\n",
      " [-2.985      -3.          0.17440115]\n",
      " [-2.97       -3.          0.17063709]\n",
      " ...\n",
      " [ 2.97        3.          0.17063709]\n",
      " [ 2.985       3.          0.17440115]\n",
      " [ 3.          3.          0.17846472]]\n"
     ]
    }
   ],
   "source": [
    "    print(\"Load a ply point cloud, print it, and render it\")\n",
    "    pcd = read_point_cloud(\"TestData/sync.ply\")\n",
    "    print(pcd)\n",
    "    print(np.asarray(pcd.points))\n",
    "    draw_geometries([pcd])"
   ]
  },
  {
   "cell_type": "code",
   "execution_count": 23,
   "metadata": {
    "ExecuteTime": {
     "end_time": "2018-12-01T12:52:19.614322Z",
     "start_time": "2018-12-01T12:52:16.038293Z"
    }
   },
   "outputs": [
    {
     "name": "stdout",
     "output_type": "stream",
     "text": [
      "Downsample the point cloud with a voxel of 0.05\n"
     ]
    }
   ],
   "source": [
    "    print(\"Downsample the point cloud with a voxel of 0.05\")\n",
    "    downpcd = voxel_down_sample(pcd, voxel_size = 0.05)\n",
    "    draw_geometries([downpcd])"
   ]
  },
  {
   "cell_type": "code",
   "execution_count": 24,
   "metadata": {
    "ExecuteTime": {
     "end_time": "2018-12-01T12:52:34.548678Z",
     "start_time": "2018-12-01T12:52:26.367789Z"
    }
   },
   "outputs": [
    {
     "name": "stdout",
     "output_type": "stream",
     "text": [
      "Recompute the normal of the downsampled point cloud\n"
     ]
    }
   ],
   "source": [
    "    print(\"Recompute the normal of the downsampled point cloud\")\n",
    "    estimate_normals(downpcd, search_param = KDTreeSearchParamHybrid(\n",
    "            radius = 0.1, max_nn = 30))\n",
    "    draw_geometries([downpcd])"
   ]
  },
  {
   "cell_type": "code",
   "execution_count": 26,
   "metadata": {
    "ExecuteTime": {
     "end_time": "2018-12-01T12:53:12.134938Z",
     "start_time": "2018-12-01T12:53:12.129940Z"
    }
   },
   "outputs": [
    {
     "name": "stdout",
     "output_type": "stream",
     "text": [
      "Print a normal vector of the 0th point\n",
      "[0.28118909 0.83816248 0.46735035]\n"
     ]
    }
   ],
   "source": [
    "    print(\"Print a normal vector of the 0th point\")\n",
    "    print(downpcd.normals[150])"
   ]
  },
  {
   "cell_type": "code",
   "execution_count": 27,
   "metadata": {
    "ExecuteTime": {
     "end_time": "2018-12-01T12:55:48.833033Z",
     "start_time": "2018-12-01T12:55:48.817042Z"
    }
   },
   "outputs": [
    {
     "name": "stdout",
     "output_type": "stream",
     "text": [
      "Computing normal and rendering it.\n"
     ]
    },
    {
     "ename": "AttributeError",
     "evalue": "'open3d.open3d.PointCloud' object has no attribute 'compute_vertex_normals'",
     "output_type": "error",
     "traceback": [
      "\u001b[1;31m---------------------------------------------------------------------------\u001b[0m",
      "\u001b[1;31mAttributeError\u001b[0m                            Traceback (most recent call last)",
      "\u001b[1;32m<ipython-input-27-b88de294ce9d>\u001b[0m in \u001b[0;36m<module>\u001b[1;34m()\u001b[0m\n\u001b[0;32m      1\u001b[0m \u001b[0mmesh\u001b[0m\u001b[1;33m=\u001b[0m\u001b[0mdownpcd\u001b[0m\u001b[1;33m\u001b[0m\u001b[0m\n\u001b[0;32m      2\u001b[0m \u001b[0mprint\u001b[0m\u001b[1;33m(\u001b[0m\u001b[1;34m\"Computing normal and rendering it.\"\u001b[0m\u001b[1;33m)\u001b[0m\u001b[1;33m\u001b[0m\u001b[0m\n\u001b[1;32m----> 3\u001b[1;33m \u001b[0mmesh\u001b[0m\u001b[1;33m.\u001b[0m\u001b[0mcompute_vertex_normals\u001b[0m\u001b[1;33m(\u001b[0m\u001b[1;33m)\u001b[0m\u001b[1;33m\u001b[0m\u001b[0m\n\u001b[0m\u001b[0;32m      4\u001b[0m \u001b[0mprint\u001b[0m\u001b[1;33m(\u001b[0m\u001b[0mnp\u001b[0m\u001b[1;33m.\u001b[0m\u001b[0masarray\u001b[0m\u001b[1;33m(\u001b[0m\u001b[0mmesh\u001b[0m\u001b[1;33m.\u001b[0m\u001b[0mtriangle_normals\u001b[0m\u001b[1;33m)\u001b[0m\u001b[1;33m)\u001b[0m\u001b[1;33m\u001b[0m\u001b[0m\n\u001b[0;32m      5\u001b[0m \u001b[0mdraw_geometries\u001b[0m\u001b[1;33m(\u001b[0m\u001b[1;33m[\u001b[0m\u001b[0mmesh\u001b[0m\u001b[1;33m]\u001b[0m\u001b[1;33m)\u001b[0m\u001b[1;33m\u001b[0m\u001b[0m\n",
      "\u001b[1;31mAttributeError\u001b[0m: 'open3d.open3d.PointCloud' object has no attribute 'compute_vertex_normals'"
     ]
    }
   ],
   "source": [
    "mesh=downpcd\n",
    "print(\"Computing normal and rendering it.\")\n",
    "mesh.compute_vertex_normals()\n",
    "print(np.asarray(mesh.triangle_normals))\n",
    "draw_geometries([mesh])"
   ]
  },
  {
   "cell_type": "code",
   "execution_count": null,
   "metadata": {},
   "outputs": [],
   "source": []
  }
 ],
 "metadata": {
  "kernelspec": {
   "display_name": "Python 3",
   "language": "python",
   "name": "python3"
  },
  "language_info": {
   "codemirror_mode": {
    "name": "ipython",
    "version": 3
   },
   "file_extension": ".py",
   "mimetype": "text/x-python",
   "name": "python",
   "nbconvert_exporter": "python",
   "pygments_lexer": "ipython3",
   "version": "3.6.6"
  },
  "nbTranslate": {
   "displayLangs": [
    "japanese",
    "en"
   ],
   "hotkey": "alt-t",
   "langInMainMenu": true,
   "sourceLang": "en",
   "targetLang": "japanese",
   "useGoogleTranslate": true
  },
  "toc": {
   "base_numbering": 1,
   "nav_menu": {},
   "number_sections": true,
   "sideBar": true,
   "skip_h1_title": false,
   "title_cell": "Table of Contents",
   "title_sidebar": "Contents",
   "toc_cell": false,
   "toc_position": {},
   "toc_section_display": true,
   "toc_window_display": true
  },
  "varInspector": {
   "cols": {
    "lenName": 16,
    "lenType": 16,
    "lenVar": 40
   },
   "kernels_config": {
    "python": {
     "delete_cmd_postfix": "",
     "delete_cmd_prefix": "del ",
     "library": "var_list.py",
     "varRefreshCmd": "print(var_dic_list())"
    },
    "r": {
     "delete_cmd_postfix": ") ",
     "delete_cmd_prefix": "rm(",
     "library": "var_list.r",
     "varRefreshCmd": "cat(var_dic_list()) "
    }
   },
   "types_to_exclude": [
    "module",
    "function",
    "builtin_function_or_method",
    "instance",
    "_Feature"
   ],
   "window_display": false
  }
 },
 "nbformat": 4,
 "nbformat_minor": 2
}
